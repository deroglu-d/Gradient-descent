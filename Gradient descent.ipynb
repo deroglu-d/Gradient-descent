{
 "cells": [
  {
   "cell_type": "code",
   "execution_count": 2,
   "metadata": {},
   "outputs": [
    {
     "name": "stdout",
     "output_type": "stream",
     "text": [
      "Iteration  1\n",
      "[0.37142857 0.8       ]\n",
      "Iteration  2\n",
      "[0.58       1.18734694]\n",
      "Iteration  3\n",
      "[0.70684548 1.37037901]\n",
      "Iteration  4\n",
      "[0.79224423 1.45242116]\n",
      "Iteration  5\n",
      "[0.85621077 1.48471055]\n",
      "Iteration  6\n",
      "[0.90870661 1.49264847]\n",
      "Iteration  7\n",
      "[0.95470547 1.48882168]\n",
      "Iteration  8\n",
      "[0.9967058  1.47946122]\n",
      "Iteration  9\n",
      "[1.03597703 1.46764605]\n",
      "Iteration  10\n",
      "[1.0731778  1.45489213]\n"
     ]
    },
    {
     "data": {
      "text/plain": [
       "[<matplotlib.lines.Line2D at 0x2f988f2d2b0>]"
      ]
     },
     "execution_count": 2,
     "metadata": {},
     "output_type": "execute_result"
    },
    {
     "data": {
      "image/png": "[encoded data removed]",
      "text/plain": [
       "<Figure size 432x288 with 1 Axes>"
      ]
     },
     "metadata": {
      "needs_background": "light"
     },
     "output_type": "display_data"
    }
   ],
   "source": [
    "import numpy as np\n",
    "import matplotlib.pyplot as plt\n",
    "\n",
    "r = 0.1    #Learning rate\n",
    "run_cycle = 10    #How many cycles the algorithm is run for\n",
    "\n",
    "def cost_function(d, theta):\n",
    "    \"\"\"Calculates the value of the cost function, given a dataset and a hypothesis\n",
    "    (not generalized, only for single variable linear regression)\"\"\"\n",
    "    total_error = 0\n",
    "    for i in range(len(d)):\n",
    "        total_error += (theta[0] + theta[1] * d[i,0] - d[i,1]) ** 2\n",
    "    total_error = total_error / (2 * len(d))\n",
    "    return total_error\n",
    "\n",
    "def cost_gradient(data, theta):\n",
    "    \"\"\"Calculates the gradient of the cost function, given a dataset and a hypothesis\n",
    "    (not generalized, only for single variable linear regression)\"\"\"\n",
    "    sum1 = 0\n",
    "    sum2 = 0\n",
    "    grad = np.array([0,0], dtype=float)\n",
    "    for i in range(len(data)):\n",
    "        sum1 += theta[0] + theta[1] * data[i,0] - data[i,1]\n",
    "        sum2 += (theta[0] + theta[1] * data[i,0] - data[i,1]) * data[i,0]\n",
    "    grad[0] = sum1 / len(data)\n",
    "    grad[1] = sum2 / len(data)       \n",
    "    return grad\n",
    "  \n",
    "def linear_regression(d, alpha, iterations):\n",
    "    \"\"\"Takes an Nx2 array as input dataset for linear regression\n",
    "    with gradient descent\"\"\"\n",
    "    hypo = np.array([0,0], dtype=float)    \n",
    "    for j in range(0,iterations):\n",
    "        temp_grad = cost_gradient(d, hypo)\n",
    "        hypo[0] = hypo[0] - temp_grad[0] * alpha\n",
    "        hypo[1] = hypo[1] - temp_grad[1] * alpha\n",
    "        print(\"Iteration \", j+1)\n",
    "        print(hypo)        \n",
    "    return hypo\n",
    "\n",
    "test_data = np.array([[0,1], [0,2], [1,3], [1,4], [2,5], [3,5], [4,6]])\n",
    "result_hypothesis = linear_regression(test_data, r, run_cycle)\n",
    "\n",
    "plt.plot(test_data[:, 0], test_data[:, 1], 'o', label = 'Data')\n",
    "\n",
    "x = np.linspace(0,5,100)\n",
    "y = result_hypothesis[0] + result_hypothesis[1] * x\n",
    "plt.plot(x,y)\n",
    "        "
   ]
  },
  {
   "cell_type": "code",
   "execution_count": null,
   "metadata": {},
   "outputs": [],
   "source": []
  }
 ],
 "metadata": {
  "kernelspec": {
   "display_name": "Python 3",
   "language": "python",
   "name": "python3"
  },
  "language_info": {
   "codemirror_mode": {
    "name": "ipython",
    "version": 3
   },
   "file_extension": ".py",
   "mimetype": "text/x-python",
   "name": "python",
   "nbconvert_exporter": "python",
   "pygments_lexer": "ipython3",
   "version": "3.7.3"
  }
 },
 "nbformat": 4,
 "nbformat_minor": 2
}
